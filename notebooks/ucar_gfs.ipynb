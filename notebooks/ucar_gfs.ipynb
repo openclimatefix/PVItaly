{
 "cells": [
  {
   "cell_type": "markdown",
   "id": "0388edd7-3f3c-4d71-9874-1ed17bdb56c7",
   "metadata": {},
   "source": [
    "# Get GFS data from the source\n",
    "- Data dictionary: https://rda.ucar.edu/datasets/ds084.1/#metadata/grib2.html?_do=y\n",
    "- Data access: https://rda.ucar.edu/datasets/ds084.1/#!access"
   ]
  },
  {
   "cell_type": "markdown",
   "id": "100c3113-4311-4761-ba85-8cd1b1534dd1",
   "metadata": {},
   "source": [
    "## Imports"
   ]
  },
  {
   "cell_type": "code",
   "execution_count": null,
   "id": "5f1b86ec-7153-4e33-b31c-f1266d67158b",
   "metadata": {},
   "outputs": [],
   "source": [
    "%load_ext autoreload\n",
    "%autoreload 2"
   ]
  },
  {
   "cell_type": "code",
   "execution_count": null,
   "id": "19e3fad5-c056-47f2-b229-efb6e5047064",
   "metadata": {},
   "outputs": [],
   "source": [
    "import os\n",
    "\n",
    "import httpx\n",
    "import xarray as xr\n",
    "from dotenv import load_dotenv\n",
    "\n",
    "from download import download_file"
   ]
  },
  {
   "cell_type": "code",
   "execution_count": null,
   "id": "fd76c98d-66de-41b3-b3a7-1dac908e35c4",
   "metadata": {},
   "outputs": [],
   "source": [
    "load_dotenv()"
   ]
  },
  {
   "cell_type": "markdown",
   "id": "9bf34e85-041c-4e22-a048-86fff61b205c",
   "metadata": {},
   "source": [
    "## Authenticate and get cookie"
   ]
  },
  {
   "cell_type": "code",
   "execution_count": null,
   "id": "1728f366-97ce-4cd1-a544-1c2d5033a31e",
   "metadata": {},
   "outputs": [],
   "source": [
    "auth_url = \"https://rda.ucar.edu/cgi-bin/login\"\n",
    "auth_data = {\n",
    "    \"email\": os.environ[\"UCAR_EMAIL\"],\n",
    "    \"passwd\": os.environ[\"UCAR_PASS\"],\n",
    "    \"action\": \"login\",\n",
    "}\n",
    "res = httpx.post(auth_url, data=auth_data)\n",
    "assert res.status_code == 200\n",
    "cookies = res.cookies"
   ]
  },
  {
   "cell_type": "markdown",
   "id": "e9d3503a-7714-4ed4-acaf-a1da00f016a5",
   "metadata": {},
   "source": [
    "## Build path and download"
   ]
  },
  {
   "cell_type": "code",
   "execution_count": null,
   "id": "46f26731-dce3-4d5d-bc48-bb16572a9b1f",
   "metadata": {},
   "outputs": [],
   "source": [
    "year = \"2022\"\n",
    "month = \"08\"\n",
    "day = \"13\"\n",
    "hour = \"00\"\n",
    "fnum = \"f000\"\n",
    "\n",
    "ymd = f\"{year}{month}{day}\"\n",
    "data_url = f\"https://rda.ucar.edu/data/ds084.1/{year}/{ymd}/gfs.0p25.{ymd}{hour}.{fnum}.grib2\"\n",
    "data_url"
   ]
  },
  {
   "cell_type": "code",
   "execution_count": null,
   "id": "471c087c-58cf-4dcb-8dd6-6bf5e8c4c98c",
   "metadata": {},
   "outputs": [],
   "source": [
    "file = download_file(data_url, cookies=cookies)"
   ]
  },
  {
   "cell_type": "markdown",
   "id": "9cb231f0-8c08-45e8-934c-9f25fa605bd4",
   "metadata": {},
   "source": [
    "## Load into xarray"
   ]
  },
  {
   "cell_type": "markdown",
   "id": "3c70b14f-1d7d-48bd-b707-332a9042886c",
   "metadata": {},
   "source": [
    "Possible values for `typeOfLevel`:\n",
    "- meanSea\n",
    "- hybrid\n",
    "- atmosphere\n",
    "- surface\n",
    "- planetaryBoundaryLayer\n",
    "- isobaricInPa\n",
    "- isobaricInhPa\n",
    "- heightAboveGround\n",
    "- depthBelowLandLayer\n",
    "- heightAboveSea\n",
    "- atmosphereSingleLayer\n",
    "- lowCloudLayer\n",
    "- middleCloudLayer\n",
    "- highCloudLayer\n",
    "- cloudCeiling\n",
    "- heightAboveGroundLayer\n",
    "- tropopause\n",
    "- maxWind\n",
    "- isothermZero\n",
    "- highestTroposphericFreezing\n",
    "- pressureFromGroundLayer\n",
    "- sigmaLayer\n",
    "- sigma\n",
    "- potentialVorticity"
   ]
  },
  {
   "cell_type": "code",
   "execution_count": null,
   "id": "38475436-db17-4626-acef-9f9e4e7d3d97",
   "metadata": {},
   "outputs": [],
   "source": [
    "ds = xr.open_dataset(\n",
    "    file,\n",
    "    engine=\"cfgrib\",\n",
    "    backend_kwargs={\"filter_by_keys\": {\"typeOfLevel\": \"sigma\"}},\n",
    ")\n",
    "ds"
   ]
  },
  {
   "cell_type": "code",
   "execution_count": null,
   "id": "5b71c782-c8cf-4a41-9e93-68e6f3e714d4",
   "metadata": {},
   "outputs": [],
   "source": []
  }
 ],
 "metadata": {
  "kernelspec": {
   "display_name": "ocf",
   "language": "python",
   "name": "ocf"
  },
  "language_info": {
   "codemirror_mode": {
    "name": "ipython",
    "version": 3
   },
   "file_extension": ".py",
   "mimetype": "text/x-python",
   "name": "python",
   "nbconvert_exporter": "python",
   "pygments_lexer": "ipython3",
   "version": "3.9.13"
  }
 },
 "nbformat": 4,
 "nbformat_minor": 5
}

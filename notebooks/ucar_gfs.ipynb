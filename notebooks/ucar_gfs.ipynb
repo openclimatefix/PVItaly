{
 "cells": [
  {
   "cell_type": "markdown",
   "id": "0388edd7-3f3c-4d71-9874-1ed17bdb56c7",
   "metadata": {},
   "source": [
    "# Get GFS data from the source\n",
    "- Data dictionary: https://rda.ucar.edu/datasets/ds084.1/#metadata/grib2.html?_do=y\n",
    "- Data access: https://rda.ucar.edu/datasets/ds084.1/#!access"
   ]
  },
  {
   "cell_type": "markdown",
   "id": "100c3113-4311-4761-ba85-8cd1b1534dd1",
   "metadata": {},
   "source": [
    "## Imports"
   ]
  },
  {
   "cell_type": "code",
   "execution_count": null,
   "id": "5f1b86ec-7153-4e33-b31c-f1266d67158b",
   "metadata": {},
   "outputs": [],
   "source": [
    "%load_ext autoreload\n",
    "%autoreload 2"
   ]
  },
  {
   "cell_type": "code",
   "execution_count": null,
   "id": "19e3fad5-c056-47f2-b229-efb6e5047064",
   "metadata": {},
   "outputs": [],
   "source": [
    "import os\n",
    "from datetime import datetime, timedelta\n",
    "from pathlib import Path\n",
    "from typing import Iterable\n",
    "\n",
    "import httpx\n",
    "import xarray as xr\n",
    "from dotenv import load_dotenv\n",
    "\n",
    "from download import download_file"
   ]
  },
  {
   "cell_type": "code",
   "execution_count": null,
   "id": "fd76c98d-66de-41b3-b3a7-1dac908e35c4",
   "metadata": {},
   "outputs": [],
   "source": [
    "load_dotenv()"
   ]
  },
  {
   "cell_type": "markdown",
   "id": "9bf34e85-041c-4e22-a048-86fff61b205c",
   "metadata": {},
   "source": [
    "## Authenticate and get cookie"
   ]
  },
  {
   "cell_type": "code",
   "execution_count": null,
   "id": "1728f366-97ce-4cd1-a544-1c2d5033a31e",
   "metadata": {},
   "outputs": [],
   "source": [
    "auth_url = \"https://rda.ucar.edu/cgi-bin/login\"\n",
    "auth_data = {\n",
    "    \"email\": os.environ[\"UCAR_EMAIL\"],\n",
    "    \"passwd\": os.environ[\"UCAR_PASS\"],\n",
    "    \"action\": \"login\",\n",
    "}\n",
    "res = httpx.post(auth_url, data=auth_data)\n",
    "assert res.status_code == 200\n",
    "cookies = res.cookies"
   ]
  },
  {
   "cell_type": "markdown",
   "id": "e9d3503a-7714-4ed4-acaf-a1da00f016a5",
   "metadata": {},
   "source": [
    "## Build path and download"
   ]
  },
  {
   "cell_type": "code",
   "execution_count": null,
   "id": "46f26731-dce3-4d5d-bc48-bb16572a9b1f",
   "metadata": {},
   "outputs": [],
   "source": [
    "def build_url(date: datetime, fc: int) -> str:\n",
    "    base_url = \"https://rda.ucar.edu/data/ds084.1\"\n",
    "    ymd = date.strftime(\"%Y%m%d\")\n",
    "    return f\"{base_url}/{date.year}/{ymd}/gfs.0p25.{ymd}{date.hour:02d}.f{fc:03d}.grib2\""
   ]
  },
  {
   "cell_type": "markdown",
   "id": "6bd548f8-8ff3-4b46-aa37-f77c457fa855",
   "metadata": {},
   "source": [
    "Download single file:"
   ]
  },
  {
   "cell_type": "code",
   "execution_count": null,
   "id": "471c087c-58cf-4dcb-8dd6-6bf5e8c4c98c",
   "metadata": {},
   "outputs": [],
   "source": [
    "data_url = build_url(datetime(2022, 8, 13), 0)\n",
    "file = download_file(data_url, cookies=cookies)"
   ]
  },
  {
   "cell_type": "markdown",
   "id": "9cb59475-0586-4fcd-8cc7-d24233a868d6",
   "metadata": {},
   "source": [
    "## Download multiple files"
   ]
  },
  {
   "cell_type": "code",
   "execution_count": null,
   "id": "abfe0af6-85de-430c-8d0a-82320841d291",
   "metadata": {},
   "outputs": [],
   "source": [
    "def download_range(\n",
    "    start_date: datetime, end_date: datetime\n",
    ") -> Iterable[tuple[datetime, int, Path]]:\n",
    "    date = start_date\n",
    "    delta = timedelta(hours=6)\n",
    "\n",
    "    while date <= end_date:\n",
    "        for fc in [0, 3, 6]:\n",
    "            url = build_url(date, fc)\n",
    "            file = Path(download_file(url, cookies=cookies))\n",
    "            yield date, fc, file\n",
    "        date += delta"
   ]
  },
  {
   "cell_type": "code",
   "execution_count": null,
   "id": "cc71e5b3-9399-4ae4-84dd-5ecd52ad1b6b",
   "metadata": {},
   "outputs": [],
   "source": [
    "start_date = datetime(2021, 1, 1)\n",
    "end_date = datetime(2023, 1, 1)\n",
    "files = download_range(start_date, end_date)"
   ]
  },
  {
   "cell_type": "code",
   "execution_count": null,
   "id": "ce4d09ef-8589-43e7-a96d-917e1c4898a3",
   "metadata": {},
   "outputs": [],
   "source": [
    "# use as follows\n",
    "# for date, fc, path in files: pass"
   ]
  },
  {
   "cell_type": "markdown",
   "id": "9cb231f0-8c08-45e8-934c-9f25fa605bd4",
   "metadata": {},
   "source": [
    "## Load into xarray"
   ]
  },
  {
   "cell_type": "markdown",
   "id": "3c70b14f-1d7d-48bd-b707-332a9042886c",
   "metadata": {},
   "source": [
    "Possible values for `typeOfLevel`:\n",
    "- meanSea\n",
    "- hybrid\n",
    "- atmosphere\n",
    "- surface\n",
    "- planetaryBoundaryLayer\n",
    "- isobaricInPa\n",
    "- isobaricInhPa\n",
    "- heightAboveGround\n",
    "- depthBelowLandLayer\n",
    "- heightAboveSea\n",
    "- atmosphereSingleLayer\n",
    "- lowCloudLayer\n",
    "- middleCloudLayer\n",
    "- highCloudLayer\n",
    "- cloudCeiling\n",
    "- heightAboveGroundLayer\n",
    "- tropopause\n",
    "- maxWind\n",
    "- isothermZero\n",
    "- highestTroposphericFreezing\n",
    "- pressureFromGroundLayer\n",
    "- sigmaLayer\n",
    "- sigma\n",
    "- potentialVorticity"
   ]
  },
  {
   "cell_type": "code",
   "execution_count": null,
   "id": "38475436-db17-4626-acef-9f9e4e7d3d97",
   "metadata": {},
   "outputs": [],
   "source": [
    "ds = xr.open_dataset(\n",
    "    file,\n",
    "    engine=\"cfgrib\",\n",
    "    backend_kwargs={\"filter_by_keys\": {\"typeOfLevel\": \"sigma\"}},\n",
    ")\n",
    "ds"
   ]
  }
 ],
 "metadata": {
  "kernelspec": {
   "display_name": "ocf",
   "language": "python",
   "name": "ocf"
  },
  "language_info": {
   "codemirror_mode": {
    "name": "ipython",
    "version": 3
   },
   "file_extension": ".py",
   "mimetype": "text/x-python",
   "name": "python",
   "nbconvert_exporter": "python",
   "pygments_lexer": "ipython3"
  }
 },
 "nbformat": 4,
 "nbformat_minor": 5
}

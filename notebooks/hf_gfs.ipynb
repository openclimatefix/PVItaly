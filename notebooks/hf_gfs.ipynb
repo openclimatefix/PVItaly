{
 "cells": [
  {
   "cell_type": "markdown",
   "id": "14f79e03-1f3d-4505-947b-fbd7ff9588d1",
   "metadata": {},
   "source": [
    "# Get GFS data from HuggingFace"
   ]
  },
  {
   "cell_type": "markdown",
   "id": "ba069267-a74f-4783-bab2-71d0911aa70c",
   "metadata": {},
   "source": [
    "## Imports"
   ]
  },
  {
   "cell_type": "code",
   "execution_count": null,
   "id": "a834a6e4-b6d4-4551-96ac-a68408b20190",
   "metadata": {},
   "outputs": [],
   "source": [
    "import xarray as xr\n",
    "import zarr\n",
    "import huggingface_hub as hf"
   ]
  },
  {
   "cell_type": "markdown",
   "id": "7b320e60-3fc1-4a2a-9365-668700d3ca24",
   "metadata": {},
   "source": [
    "## Get file list from HuggingFace"
   ]
  },
  {
   "cell_type": "code",
   "execution_count": null,
   "id": "a60f7629-af83-421a-8f28-fe0d2948facb",
   "metadata": {},
   "outputs": [],
   "source": [
    "api = hf.HfApi()"
   ]
  },
  {
   "cell_type": "code",
   "execution_count": null,
   "id": "e4c78b28-b8cf-42f9-91b3-a8f1720677b9",
   "metadata": {},
   "outputs": [],
   "source": [
    "repo = \"openclimatefix/gfs-reforecast\""
   ]
  },
  {
   "cell_type": "code",
   "execution_count": null,
   "id": "81c5fef5-1943-471f-9323-e7d749b5c91f",
   "metadata": {},
   "outputs": [],
   "source": [
    "files = api.list_repo_files(repo, repo_type=\"dataset\")\n",
    "data_files = [file for file in files if file.startswith(\"data/forecasts/GFSv16/\")]"
   ]
  },
  {
   "cell_type": "markdown",
   "id": "2a9794b8-db3c-42ba-8b98-158ed896237d",
   "metadata": {},
   "source": [
    "## Get data"
   ]
  },
  {
   "cell_type": "code",
   "execution_count": null,
   "id": "22c71ae6-2092-4491-b51b-138b6b9ef2cb",
   "metadata": {},
   "outputs": [],
   "source": [
    "url = hf.hf_hub_url(repo_id=repo, filename=data_files[-1], repo_type=\"dataset\")\n",
    "zip_url = f\"zip:///::{url}\"\n",
    "zip_url"
   ]
  },
  {
   "cell_type": "code",
   "execution_count": null,
   "id": "30bcbb78-dbf1-452f-802b-e1f1dd84a787",
   "metadata": {},
   "outputs": [],
   "source": [
    "ds = xr.open_dataset(zip_url, engine=\"zarr\", chunks={})"
   ]
  },
  {
   "cell_type": "code",
   "execution_count": null,
   "id": "79df18de-13c4-42dd-bfa6-55c4cafa41c8",
   "metadata": {},
   "outputs": [],
   "source": [
    "ds"
   ]
  },
  {
   "cell_type": "markdown",
   "id": "6fa5d8af-2ffa-4560-b6e1-e06d376ed0f4",
   "metadata": {},
   "source": [
    "Parameter dictionary:\n",
    "https://rda.ucar.edu/datasets/ds084.1/#metadata/grib2.html?_do=y"
   ]
  },
  {
   "cell_type": "code",
   "execution_count": null,
   "id": "650d51e6-c3fb-4d34-b1d9-c21efa8eeec3",
   "metadata": {},
   "outputs": [],
   "source": [
    "keys = {\n",
    "    \"u10\": \"wind u\",\n",
    "    \"v10\": \"wind v\",\n",
    "    \"t2m\": \"air temp\",\n",
    "    # downward flux: missing\n",
    "    # tp values are 0?\n",
    "    # precip rate missing\n",
    "}"
   ]
  },
  {
   "cell_type": "code",
   "execution_count": null,
   "id": "7556acac-7896-4d9e-8aee-48616a93e497",
   "metadata": {},
   "outputs": [],
   "source": [
    "ds.sel(\n",
    "    latitude=slice(45, 40),\n",
    "    longitude=slice(10, 15),\n",
    ")[keys.keys()].t2m"
   ]
  }
 ],
 "metadata": {
  "kernelspec": {
   "display_name": "ocf",
   "language": "python",
   "name": "ocf"
  },
  "language_info": {
   "codemirror_mode": {
    "name": "ipython",
    "version": 3
   },
   "file_extension": ".py",
   "mimetype": "text/x-python",
   "name": "python",
   "nbconvert_exporter": "python",
   "pygments_lexer": "ipython3"
  }
 },
 "nbformat": 4,
 "nbformat_minor": 5
}

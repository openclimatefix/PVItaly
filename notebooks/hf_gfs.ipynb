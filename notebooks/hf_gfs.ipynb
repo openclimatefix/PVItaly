{
 "cells": [
  {
   "cell_type": "markdown",
   "id": "14f79e03-1f3d-4505-947b-fbd7ff9588d1",
   "metadata": {},
   "source": [
    "# Get GFS data from HuggingFace"
   ]
  },
  {
   "cell_type": "markdown",
   "id": "ba069267-a74f-4783-bab2-71d0911aa70c",
   "metadata": {},
   "source": [
    "## Imports"
   ]
  },
  {
   "cell_type": "code",
   "execution_count": null,
   "id": "a834a6e4-b6d4-4551-96ac-a68408b20190",
   "metadata": {},
   "outputs": [],
   "source": [
    "from huggingface_hub import HfApi, hf_hub_download"
   ]
  },
  {
   "cell_type": "markdown",
   "id": "7b320e60-3fc1-4a2a-9365-668700d3ca24",
   "metadata": {},
   "source": [
    "## Get file list from HuggingFace"
   ]
  },
  {
   "cell_type": "code",
   "execution_count": null,
   "id": "a60f7629-af83-421a-8f28-fe0d2948facb",
   "metadata": {},
   "outputs": [],
   "source": [
    "api = HfApi()"
   ]
  },
  {
   "cell_type": "code",
   "execution_count": null,
   "id": "e4c78b28-b8cf-42f9-91b3-a8f1720677b9",
   "metadata": {},
   "outputs": [],
   "source": [
    "repo = \"openclimatefix/gfs-reforecast\""
   ]
  },
  {
   "cell_type": "code",
   "execution_count": null,
   "id": "81c5fef5-1943-471f-9323-e7d749b5c91f",
   "metadata": {},
   "outputs": [],
   "source": [
    "files = api.list_repo_files(repo, repo_type=\"dataset\")\n",
    "data_files = [file for file in files if file.startswith(\"data/forecasts/GFSv16/\")]"
   ]
  },
  {
   "cell_type": "code",
   "execution_count": null,
   "id": "9d9898ac-19ef-442a-9a8d-b96a7319d319",
   "metadata": {},
   "outputs": [],
   "source": [
    "data_files[0]"
   ]
  },
  {
   "cell_type": "markdown",
   "id": "2a9794b8-db3c-42ba-8b98-158ed896237d",
   "metadata": {},
   "source": [
    "## Get data\n",
    "This downloads the whole file, not sure how to just pass the URL to xarray..."
   ]
  },
  {
   "cell_type": "code",
   "execution_count": null,
   "id": "6bdc6201-2958-47fa-b83c-863b0a78769e",
   "metadata": {},
   "outputs": [],
   "source": [
    "file = hf_hub_download(\n",
    "    repo_id=repo,\n",
    "    filename=data_files[0],\n",
    "    repo_type=\"dataset\",\n",
    "    # local_files_only=True,\n",
    ")"
   ]
  },
  {
   "cell_type": "code",
   "execution_count": null,
   "id": "762707c3-27a9-47d0-9c5c-7cc4dd227748",
   "metadata": {},
   "outputs": [],
   "source": []
  }
 ],
 "metadata": {
  "kernelspec": {
   "display_name": "ocf",
   "language": "python",
   "name": "ocf"
  },
  "language_info": {
   "codemirror_mode": {
    "name": "ipython",
    "version": 3
   },
   "file_extension": ".py",
   "mimetype": "text/x-python",
   "name": "python",
   "nbconvert_exporter": "python",
   "pygments_lexer": "ipython3",
   "version": "3.9.13"
  }
 },
 "nbformat": 4,
 "nbformat_minor": 5
}

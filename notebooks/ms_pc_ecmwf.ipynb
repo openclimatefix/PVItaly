{
 "cells": [
  {
   "cell_type": "markdown",
   "id": "ba0a539b-3073-49d5-ae97-f2e289187e48",
   "metadata": {},
   "source": [
    "# Download ECMWF forecast data from MS Planetary Computer\n",
    "https://planetarycomputer.microsoft.com/dataset/ecmwf-forecast#overview"
   ]
  },
  {
   "cell_type": "markdown",
   "id": "5aa557d9-3a03-4b68-80ab-2e0c4274d7ac",
   "metadata": {},
   "source": [
    "## Imports"
   ]
  },
  {
   "cell_type": "code",
   "execution_count": null,
   "id": "49e97d45-aca9-46d6-b180-49a87a08695f",
   "metadata": {},
   "outputs": [],
   "source": [
    "import json\n",
    "import urllib.request\n",
    "import tempfile\n",
    "\n",
    "import httpx\n",
    "import planetary_computer\n",
    "import pystac_client\n",
    "from tqdm import tqdm\n",
    "import xarray as xr"
   ]
  },
  {
   "cell_type": "markdown",
   "id": "8bf3ce58-4ef2-4ba1-85be-93db53fbc35d",
   "metadata": {},
   "source": [
    "## Query STAC to get data URLs"
   ]
  },
  {
   "cell_type": "code",
   "execution_count": null,
   "id": "727f1548-5fd1-454c-b959-f3c87f3eaff7",
   "metadata": {},
   "outputs": [],
   "source": [
    "catalog = pystac_client.Client.open(\n",
    "    \"https://planetarycomputer.microsoft.com/api/stac/v1\",\n",
    "    modifier=planetary_computer.sign_inplace,\n",
    ")"
   ]
  },
  {
   "cell_type": "code",
   "execution_count": null,
   "id": "8555a9cb-bd2c-4dc5-8465-54565f90c3f6",
   "metadata": {},
   "outputs": [],
   "source": [
    "forecast_step = \"0h\""
   ]
  },
  {
   "cell_type": "code",
   "execution_count": null,
   "id": "788db7c8-443f-4e5a-a3be-a0453115be77",
   "metadata": {},
   "outputs": [],
   "source": [
    "search = catalog.search(\n",
    "    collections=[\"ecmwf-forecast\"],\n",
    "    query={\n",
    "        \"ecmwf:stream\": {\"eq\": \"enfo\"},\n",
    "        \"ecmwf:step\": {\"eq\": forecast_step},\n",
    "    },\n",
    ")\n",
    "items = search.get_all_items()\n",
    "len(items)"
   ]
  },
  {
   "cell_type": "code",
   "execution_count": null,
   "id": "8b4cdae7-e766-4ad9-a4fa-fd6d3f0d4fd7",
   "metadata": {},
   "outputs": [],
   "source": [
    "item = max(items, key=lambda item: item.datetime)\n",
    "item"
   ]
  },
  {
   "cell_type": "code",
   "execution_count": null,
   "id": "c2aae8a5-a526-43a0-90c6-7390df483e8b",
   "metadata": {},
   "outputs": [],
   "source": [
    "item.properties"
   ]
  },
  {
   "cell_type": "code",
   "execution_count": null,
   "id": "5f186e7e-d478-4cae-bf89-162c1dc03469",
   "metadata": {},
   "outputs": [],
   "source": [
    "data_url = item.assets[\"data\"].href\n",
    "index_url = item.assets[\"index\"].href"
   ]
  },
  {
   "cell_type": "markdown",
   "id": "cd5ffd08-b8b9-4c5d-9441-9c0f538b8ad4",
   "metadata": {},
   "source": [
    "## Attempt to use byte offsets to avoid downloading whole file\n",
    "Not working (file loads, but no data in it?)"
   ]
  },
  {
   "cell_type": "code",
   "execution_count": null,
   "id": "19d0e9f6-83d0-4930-8f2f-f85421a050c4",
   "metadata": {},
   "outputs": [],
   "source": [
    "# Get byte off\n",
    "r = httpx.get(index_url)\n",
    "assert r.status_code == 200\n",
    "chunks = [json.loads(t) for t in r.text.strip().split(\"\\n\")]\n",
    "ch = [c for c in chunks if c[\"param\"] == \"t\"][0]\n",
    "print(ch)"
   ]
  },
  {
   "cell_type": "code",
   "execution_count": null,
   "id": "645e58e1-33de-45b8-bc29-9eb7dc396b1f",
   "metadata": {},
   "outputs": [],
   "source": [
    "# offset, length = ch[\"_offset\"], ch[\"_length\"]\n",
    "# start, end = offset, offset + length\n",
    "# headers = {\"Range\": f\"bytes={start}-{end}\"}\n",
    "headers = {}"
   ]
  },
  {
   "cell_type": "markdown",
   "id": "29cda883-2539-4a06-8482-b89894b84cf7",
   "metadata": {},
   "source": [
    "## Download file to /tmp dir"
   ]
  },
  {
   "cell_type": "code",
   "execution_count": null,
   "id": "50a5ca06-496c-4ad8-b961-2ba2abbc2d71",
   "metadata": {},
   "outputs": [],
   "source": [
    "def download_file(url, headers=None):\n",
    "    with tempfile.NamedTemporaryFile(delete=False) as file:\n",
    "        with httpx.stream(\"GET\", data_url, headers=headers) as response:\n",
    "            total = int(response.headers[\"Content-Length\"])\n",
    "            with tqdm(total=total, unit_scale=True, unit_divisor=1024, unit=\"B\") as progress:\n",
    "                num_bytes_downloaded = response.num_bytes_downloaded\n",
    "                for chunk in response.iter_bytes():\n",
    "                    file.write(chunk)\n",
    "                    progress.update(response.num_bytes_downloaded - num_bytes_downloaded)\n",
    "                    num_bytes_downloaded = response.num_bytes_downloaded\n",
    "    return file.name"
   ]
  },
  {
   "cell_type": "code",
   "execution_count": null,
   "id": "7a4ff995-c7c7-4e08-9d6e-270c911dee68",
   "metadata": {},
   "outputs": [],
   "source": [
    "# NB this will download a ~2.5GB file\n",
    "file = download_file(data_url, headers=headers)"
   ]
  },
  {
   "cell_type": "markdown",
   "id": "70406fad-e5ab-40a7-ab96-183d6a6189e8",
   "metadata": {},
   "source": [
    "## Open and explore dataset"
   ]
  },
  {
   "cell_type": "code",
   "execution_count": null,
   "id": "5a5e9784-5276-40df-8144-9b017d6d4c93",
   "metadata": {},
   "outputs": [],
   "source": [
    "ds = xr.open_dataset(\n",
    "    file,\n",
    "    engine=\"cfgrib\",\n",
    "    filter_by_keys={\"dataType\": \"cf\"},\n",
    ")\n",
    "ds"
   ]
  },
  {
   "cell_type": "code",
   "execution_count": null,
   "id": "a842ea99-0961-46ad-a06c-240aea95c63d",
   "metadata": {},
   "outputs": [],
   "source": [
    "keys = {\n",
    "    \"u10\": \"wind u\",\n",
    "    \"v10\": \"wind v\",\n",
    "    \"t\": \"air temp\",\n",
    "    # downward flux: missing\n",
    "    # tp values are 0?\n",
    "    # precip rate missing\n",
    "}"
   ]
  },
  {
   "cell_type": "code",
   "execution_count": null,
   "id": "ad2d373a-b4d9-4424-8f26-fe308fe048b1",
   "metadata": {},
   "outputs": [],
   "source": [
    "ds.sel(\n",
    "    latitude=slice(45, 40),\n",
    "    longitude=slice(10, 15),\n",
    "    isobaricInhPa=1000,\n",
    ")[keys.keys()]"
   ]
  },
  {
   "cell_type": "code",
   "execution_count": null,
   "id": "2040ee8b-f555-4fc7-8ba7-a5de4faf4a25",
   "metadata": {},
   "outputs": [],
   "source": []
  }
 ],
 "metadata": {
  "kernelspec": {
   "display_name": "ocf",
   "language": "python",
   "name": "ocf"
  },
  "language_info": {
   "codemirror_mode": {
    "name": "ipython",
    "version": 3
   },
   "file_extension": ".py",
   "mimetype": "text/x-python",
   "name": "python",
   "nbconvert_exporter": "python",
   "pygments_lexer": "ipython3",
   "version": "3.9.13"
  }
 },
 "nbformat": 4,
 "nbformat_minor": 5
}

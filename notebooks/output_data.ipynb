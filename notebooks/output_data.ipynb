{
 "cells": [
  {
   "cell_type": "code",
   "execution_count": null,
   "id": "cb143287-30c1-4c42-9430-4c44785b0366",
   "metadata": {},
   "outputs": [],
   "source": [
    "import joblib\n",
    "from collections import defaultdict\n",
    "from datetime import datetime\n",
    "\n",
    "import numpy as np\n",
    "import pandas as pd\n",
    "import seaborn as sns"
   ]
  },
  {
   "cell_type": "code",
   "execution_count": null,
   "id": "c2a5bd6c-f464-49fd-9d85-6b98faa13415",
   "metadata": {},
   "outputs": [],
   "source": [
    "dump = joblib.load(\"../dump.joblib\")"
   ]
  },
  {
   "cell_type": "code",
   "execution_count": null,
   "id": "17262c5d-27e8-4405-a28b-6afae68053ef",
   "metadata": {},
   "outputs": [],
   "source": [
    "batch, _, _, y_hat = dump.values()"
   ]
  },
  {
   "cell_type": "code",
   "execution_count": null,
   "id": "69691cbb-40b3-41a2-a531-dda8babb0b4b",
   "metadata": {},
   "outputs": [],
   "source": [
    "y_hat = y_hat.reshape(-1, y_hat.shape[-1])\n",
    "y_hat.shape"
   ]
  },
  {
   "cell_type": "code",
   "execution_count": null,
   "id": "8c867913-ec3b-4b8e-80bd-ff5e4a3c080b",
   "metadata": {},
   "outputs": [],
   "source": [
    "pv_t0 = [b[\"pv_t0_idx\"] for b in batch]\n",
    "pv_t0_idx = pv_t0[0]\n",
    "assert all(p == pv_t0_idx for p in pv_t0)"
   ]
  },
  {
   "cell_type": "code",
   "execution_count": null,
   "id": "f076af5c-619c-4dc8-8f9f-58a7fa9e93c2",
   "metadata": {},
   "outputs": [],
   "source": [
    "batch = {\n",
    "    key: np.squeeze(np.array([b[key] for b in batch]).reshape(y_hat.shape[0], -1))\n",
    "    for key in batch[0].keys()\n",
    "    if key != \"pv_t0_idx\"\n",
    "}"
   ]
  },
  {
   "cell_type": "code",
   "execution_count": null,
   "id": "f3cf47cc-8ae9-452b-af36-6d5e8299f5ab",
   "metadata": {},
   "outputs": [],
   "source": [
    "for k, v in batch.items():\n",
    "    print(f\"{k:<25}{v.shape}\")"
   ]
  },
  {
   "cell_type": "code",
   "execution_count": null,
   "id": "eb3c06a7-a0ce-4241-abbf-b9a5b082888a",
   "metadata": {},
   "outputs": [],
   "source": [
    "y = batch[\"pv\"][:, pv_t0_idx:]\n",
    "data = np.hstack((y, y_hat))\n",
    "\n",
    "df = pd.DataFrame(data)\n",
    "\n",
    "r = range(y.shape[-1])\n",
    "df.columns = [f\"true{x*15}\" for x in r] + [f\"pred{x*15}\" for x in r]\n",
    "\n",
    "df = df.assign(\n",
    "    system=batch[\"pv_system_row_number\"],\n",
    "    datetime=[datetime.utcfromtimestamp(ts[pv_t0_idx]) for ts in batch[\"pv_time_utc\"]],\n",
    ")\n",
    "\n",
    "df = df.sort_values(by=[\"datetime\", \"system\"])\n",
    "df = df.drop_duplicates(subset=[\"system\", \"datetime\"])\n",
    "\n",
    "print(len(df))\n",
    "df.head()"
   ]
  },
  {
   "cell_type": "code",
   "execution_count": null,
   "id": "1e6d9e49-465b-4923-b93e-f85e1201007e",
   "metadata": {},
   "outputs": [],
   "source": [
    "lo = pd.wide_to_long(\n",
    "    df,\n",
    "    stubnames=[\"true\", \"pred\"],\n",
    "    i=[\"system\", \"datetime\"],\n",
    "    j=\"step\",\n",
    ").reset_index()\n",
    "lo = lo.assign(\n",
    "    abs_err=(lo[\"pred\"] - lo[\"true\"]).abs(),\n",
    "    squ_err=(lo[\"pred\"] - lo[\"true\"]) ** 2,\n",
    ")\n",
    "lo.head()"
   ]
  },
  {
   "cell_type": "code",
   "execution_count": null,
   "id": "ac14c9c7-0f8a-4fe7-99e9-5908d63a4ac7",
   "metadata": {},
   "outputs": [],
   "source": [
    "# lo.loc[(lo.system == 2) & (lo.datetime == lo.iloc[0].datetime)]"
   ]
  },
  {
   "cell_type": "code",
   "execution_count": null,
   "id": "8dd33d9b-49e7-436a-9007-50e3b589605c",
   "metadata": {},
   "outputs": [],
   "source": [
    "sns.lineplot(\n",
    "    data=lo,\n",
    "    x=\"step\",\n",
    "    y=\"abs_err\",\n",
    "    hue=\"system\",\n",
    ")"
   ]
  }
 ],
 "metadata": {
  "kernelspec": {
   "display_name": "oxfe",
   "language": "python",
   "name": "oxfe"
  },
  "language_info": {
   "codemirror_mode": {
    "name": "ipython",
    "version": 3
   },
   "file_extension": ".py",
   "mimetype": "text/x-python",
   "name": "python",
   "nbconvert_exporter": "python",
   "pygments_lexer": "ipython3"
  }
 },
 "nbformat": 4,
 "nbformat_minor": 5
}

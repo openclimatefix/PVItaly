{
 "cells": [
  {
   "cell_type": "code",
   "execution_count": null,
   "id": "cb143287-30c1-4c42-9430-4c44785b0366",
   "metadata": {},
   "outputs": [],
   "source": [
    "import pandas as pd\n",
    "import seaborn as sns"
   ]
  },
  {
   "cell_type": "code",
   "execution_count": null,
   "id": "868faadb-8c17-4581-98be-80e37fae67a9",
   "metadata": {},
   "outputs": [],
   "source": [
    "dfw = pd.read_parquet(\"../inference/dfw_big.parquet\")\n",
    "dfl = pd.read_parquet(\"../inference/dfl_big.parquet\")\n",
    "len(dfw), len(dfl)"
   ]
  },
  {
   "cell_type": "code",
   "execution_count": null,
   "id": "81128648-f1ce-4c02-bbd8-50367bc8dc7e",
   "metadata": {},
   "outputs": [],
   "source": [
    "dfw.head(2)"
   ]
  },
  {
   "cell_type": "code",
   "execution_count": null,
   "id": "43ac67c0-cca2-48b5-b37e-659b7de3314f",
   "metadata": {},
   "outputs": [],
   "source": [
    "dfl.head(2)"
   ]
  },
  {
   "cell_type": "code",
   "execution_count": null,
   "id": "ac14c9c7-0f8a-4fe7-99e9-5908d63a4ac7",
   "metadata": {},
   "outputs": [],
   "source": [
    "# lo.loc[(lo.system == 2) & (lo.datetime == lo.iloc[0].datetime)]"
   ]
  },
  {
   "cell_type": "code",
   "execution_count": null,
   "id": "8dd33d9b-49e7-436a-9007-50e3b589605c",
   "metadata": {},
   "outputs": [],
   "source": [
    "ax = sns.lineplot(\n",
    "    data=dfl,\n",
    "    x=\"step\",\n",
    "    y=\"abs_err\",\n",
    "    hue=\"system\",\n",
    ")\n",
    "ax.set_title(\"abs_err\")"
   ]
  },
  {
   "cell_type": "code",
   "execution_count": null,
   "id": "828a9734-fff9-40cc-8809-4dcfbb7e3c8b",
   "metadata": {},
   "outputs": [],
   "source": [
    "ax = sns.lineplot(\n",
    "    data=dfl,\n",
    "    x=\"step\",\n",
    "    y=\"squ_err\",\n",
    "    hue=\"system\",\n",
    ")\n",
    "ax.set_title(\"squ_err\")"
   ]
  }
 ],
 "metadata": {
  "kernelspec": {
   "display_name": "oxfe",
   "language": "python",
   "name": "oxfe"
  },
  "language_info": {
   "codemirror_mode": {
    "name": "ipython",
    "version": 3
   },
   "file_extension": ".py",
   "mimetype": "text/x-python",
   "name": "python",
   "nbconvert_exporter": "python",
   "pygments_lexer": "ipython3"
  }
 },
 "nbformat": 4,
 "nbformat_minor": 5
}

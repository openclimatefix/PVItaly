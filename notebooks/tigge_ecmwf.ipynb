{
 "cells": [
  {
   "cell_type": "markdown",
   "id": "2ce4e08f-cc05-4b79-a189-2a22b3c98d51",
   "metadata": {},
   "source": [
    "# Load data from TIGGE\n",
    "\n",
    "Use this to help build requests:\n",
    "\n",
    "https://apps.ecmwf.int/datasets/data/tigge/levtype=sfc/type=cf/"
   ]
  },
  {
   "cell_type": "markdown",
   "id": "082a9ed8-12f8-49b5-a6f1-1034ed39465e",
   "metadata": {},
   "source": [
    "## Authentication instructions"
   ]
  },
  {
   "cell_type": "markdown",
   "id": "bc08cf46-c5ed-4653-8278-ba902588c457",
   "metadata": {},
   "source": [
    "[Full instructions](https://github.com/ecmwf/ecmwf-api-client#registered-access-recommended)\n",
    "\n",
    "1. Create an ECMWF account and get your key: https://api.ecmwf.int/v1/key/\n",
    "2. Copy-paste it to `~/.ecmwfapirc`"
   ]
  },
  {
   "cell_type": "markdown",
   "id": "3ac317fa-bef4-49d6-b289-a5d211d8b759",
   "metadata": {},
   "source": [
    "## Imports"
   ]
  },
  {
   "cell_type": "code",
   "execution_count": null,
   "id": "99f00bce-5726-4256-a09b-1c05732fb597",
   "metadata": {},
   "outputs": [],
   "source": [
    "from ecmwfapi import ECMWFDataServer"
   ]
  },
  {
   "cell_type": "markdown",
   "id": "f4582475-c7cc-4e76-b631-98f59c2d53d3",
   "metadata": {},
   "source": [
    "## Setup"
   ]
  },
  {
   "cell_type": "code",
   "execution_count": null,
   "id": "107d38ab-84b9-4a28-9c83-bb304c2dedc5",
   "metadata": {},
   "outputs": [],
   "source": [
    "server = ECMWFDataServer()"
   ]
  },
  {
   "cell_type": "markdown",
   "id": "a27fb588-fc0d-4584-86ac-c5de7c25b721",
   "metadata": {},
   "source": [
    "## Function for single request"
   ]
  },
  {
   "cell_type": "code",
   "execution_count": null,
   "id": "e99536e9-044e-4d59-b15e-38e69b42a2df",
   "metadata": {},
   "outputs": [],
   "source": [
    "params = {\n",
    "    \"165\": \"u10\",\n",
    "    \"166\": \"v10\",\n",
    "    \"167\": \"t2m\",\n",
    "    \"146\": \"surface sensible heat flux\",\n",
    "    \"176\": \"surface net solar rad\",\n",
    "    \"228228\": \"total precip\",\n",
    "    \"228164\": \"total cloud cover\",\n",
    "}"
   ]
  },
  {
   "cell_type": "code",
   "execution_count": null,
   "id": "7a398f1c-2603-4659-8bad-356b079a8ef6",
   "metadata": {},
   "outputs": [],
   "source": [
    "params_arg = \"/\".join(params.keys())\n",
    "params_arg"
   ]
  },
  {
   "cell_type": "code",
   "execution_count": null,
   "id": "f71d0c77-d3e7-45a5-b91f-e33bb114beae",
   "metadata": {},
   "outputs": [],
   "source": [
    "def tigge_request(date, target):\n",
    "    req = {\n",
    "        \"class\": \"ti\",\n",
    "        \"dataset\": \"tigge\",\n",
    "        \"origin\": \"ecmf\",\n",
    "        \"levtype\": \"sfc\",  # surface\n",
    "        \"type\": \"cf\",  # control forecast\n",
    "        \"expver\": \"prod\",\n",
    "        \"grid\": \"0.5/0.5\",\n",
    "        \"date\": date,\n",
    "        \"time\": \"00:00:00/12:00:00\",\n",
    "        \"param\": params_arg,\n",
    "        \"step\": \"6\",\n",
    "        \"target\": target,\n",
    "    }\n",
    "    server.retrieve(req)"
   ]
  },
  {
   "cell_type": "markdown",
   "id": "8cf54600-2da6-457d-8aa7-cb77ea7c6e6c",
   "metadata": {},
   "source": [
    "## Run for dates"
   ]
  },
  {
   "cell_type": "code",
   "execution_count": null,
   "id": "b81c3df5-6233-4667-9242-7c4ab0b8b378",
   "metadata": {},
   "outputs": [],
   "source": [
    "dates = [\n",
    "    \"2022-09-01\",\n",
    "]\n",
    "for date in dates:\n",
    "    target = f\"ecmwf_sfc_{date}.grb\"\n",
    "    tigge_request(date, target)"
   ]
  }
 ],
 "metadata": {
  "kernelspec": {
   "display_name": "ocf",
   "language": "python",
   "name": "ocf"
  },
  "language_info": {
   "codemirror_mode": {
    "name": "ipython",
    "version": 3
   },
   "file_extension": ".py",
   "mimetype": "text/x-python",
   "name": "python",
   "nbconvert_exporter": "python",
   "pygments_lexer": "ipython3"
  }
 },
 "nbformat": 4,
 "nbformat_minor": 5
}

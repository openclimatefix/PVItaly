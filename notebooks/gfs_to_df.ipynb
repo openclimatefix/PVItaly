{
 "cells": [
  {
   "cell_type": "markdown",
   "id": "be468af4-73a1-4090-847c-d9fc8055e122",
   "metadata": {},
   "source": [
    "# Create a GFS dataframe for a diven datetime range"
   ]
  },
  {
   "cell_type": "markdown",
   "id": "23d91bdc-b7a9-4c01-a3ee-8a0cb553586e",
   "metadata": {},
   "source": [
    "## Imports"
   ]
  },
  {
   "cell_type": "code",
   "execution_count": null,
   "id": "dfb04a2f-143c-482c-965b-51239f61738a",
   "metadata": {},
   "outputs": [],
   "source": [
    "import os\n",
    "from datetime import datetime\n",
    "\n",
    "import xarray as xr"
   ]
  },
  {
   "cell_type": "markdown",
   "id": "e59cf2e2-f2cb-43a1-8076-2b4b1e2d09d9",
   "metadata": {},
   "source": [
    "## Get dataset"
   ]
  },
  {
   "cell_type": "code",
   "execution_count": null,
   "id": "2681458b-1700-4613-811d-537bb0b3ed82",
   "metadata": {},
   "outputs": [],
   "source": [
    "year, month, day, hour = 2022, 4, 18, 6\n",
    "\n",
    "datetime(year, month, day, hour)\n",
    "assert year >= 2021\n",
    "assert hour in [0, 6, 12, 18]"
   ]
  },
  {
   "cell_type": "code",
   "execution_count": null,
   "id": "2f8f0b13-5887-4184-9a00-a48660d3efbd",
   "metadata": {},
   "outputs": [],
   "source": [
    "def build_url(year, month, day, hour):\n",
    "    prefix = \"zip:///::https://huggingface.co/datasets/\"\n",
    "    dataset = \"openclimatefix/gfs-reforecast/\"\n",
    "    root = \"resolve/main/data/forecasts/GFSv16/\"\n",
    "    file = f\"{year}/{month:02d}/{year}{month:02d}{day:02d}{hour:02d}.zarr.zip\"\n",
    "    return os.path.join(prefix, dataset, root, file)"
   ]
  },
  {
   "cell_type": "code",
   "execution_count": null,
   "id": "43c836e3-6cb1-4de5-b6a9-c26fd1f2d96b",
   "metadata": {},
   "outputs": [],
   "source": [
    "url = build_url(year, month, day, hour)"
   ]
  },
  {
   "cell_type": "code",
   "execution_count": null,
   "id": "666cacac-6dde-4192-8178-b89fcfc8cac6",
   "metadata": {},
   "outputs": [],
   "source": [
    "ds = xr.open_dataset(url, engine=\"zarr\", chunks={})"
   ]
  },
  {
   "cell_type": "code",
   "execution_count": null,
   "id": "434839e2-cfcd-4870-8856-c354836627df",
   "metadata": {},
   "outputs": [],
   "source": [
    "ds"
   ]
  },
  {
   "cell_type": "markdown",
   "id": "8e927a79-bb05-4be8-8479-f9a32e1128c9",
   "metadata": {},
   "source": [
    "## Pull out data variables"
   ]
  },
  {
   "cell_type": "code",
   "execution_count": null,
   "id": "a679f600-4f7a-40b3-a14c-78dbd804cf4d",
   "metadata": {},
   "outputs": [],
   "source": [
    "include = [\n",
    "    \"VGRD.10_m_above_ground\",\n",
    "    \"UGRD.10_m_above_ground\",\n",
    "    \"TMP.2_m_above_ground\",\n",
    "    \"PRATE.surface\",\n",
    "]"
   ]
  },
  {
   "cell_type": "code",
   "execution_count": null,
   "id": "d5aafc13-72d0-42ba-8b8b-f18a5c8a7be5",
   "metadata": {},
   "outputs": [],
   "source": [
    "da = (\n",
    "    ds[include]\n",
    "    .sel(\n",
    "        longitude=12.5,\n",
    "        latitude=41.9,\n",
    "        method=\"nearest\",\n",
    "    )\n",
    "    .to_array()\n",
    ")\n",
    "da"
   ]
  }
 ],
 "metadata": {
  "kernelspec": {
   "display_name": "ocf",
   "language": "python",
   "name": "ocf"
  },
  "language_info": {
   "codemirror_mode": {
    "name": "ipython",
    "version": 3
   },
   "file_extension": ".py",
   "mimetype": "text/x-python",
   "name": "python",
   "nbconvert_exporter": "python",
   "pygments_lexer": "ipython3"
  }
 },
 "nbformat": 4,
 "nbformat_minor": 5
}

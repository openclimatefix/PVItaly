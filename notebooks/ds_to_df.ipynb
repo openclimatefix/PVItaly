{
 "cells": [
  {
   "cell_type": "code",
   "execution_count": null,
   "id": "fbdff14d-1f18-45ec-ac37-50493f84b31c",
   "metadata": {},
   "outputs": [],
   "source": [
    "from typing import Literal\n",
    "\n",
    "import xarray as xr\n",
    "import pandas as pd"
   ]
  },
  {
   "cell_type": "code",
   "execution_count": null,
   "id": "bab71f82-f93a-4666-8ef8-99fbe979d175",
   "metadata": {},
   "outputs": [],
   "source": [
    "ds = xr.open_zarr(\"../data/gfs.zarr\")\n",
    "ds"
   ]
  },
  {
   "cell_type": "code",
   "execution_count": null,
   "id": "3ca16066-407b-4a89-b08f-8b449d1adbe7",
   "metadata": {},
   "outputs": [],
   "source": [
    "def ds_to_df(\n",
    "    ds: xr.Dataset, lat: float, lon: float, step: Literal[0, 1] = 0\n",
    ") -> pd.DataFrame:\n",
    "    return (\n",
    "        ds.sel(latitude=lat, longitude=lon, method=\"nearest\")\n",
    "        .isel(step=step)\n",
    "        .to_dataframe()\n",
    "        .drop([\"isobaricInhPa\", \"step\", \"surface\"], axis=1)\n",
    "    )"
   ]
  },
  {
   "cell_type": "code",
   "execution_count": null,
   "id": "817775f2-4ea8-4c64-a30d-862db9497fce",
   "metadata": {},
   "outputs": [],
   "source": [
    "df = ds_to_df(ds, 40.1, 10.2)\n",
    "df"
   ]
  },
  {
   "cell_type": "code",
   "execution_count": null,
   "id": "3d6ce47f-282f-45b0-86b5-9b1d17c1867f",
   "metadata": {},
   "outputs": [],
   "source": [
    "df.dlwrf.plot()"
   ]
  },
  {
   "cell_type": "code",
   "execution_count": null,
   "id": "7aef9410-5435-4dcb-92af-95a09be64847",
   "metadata": {},
   "outputs": [],
   "source": [
    "df.t.plot()"
   ]
  },
  {
   "cell_type": "code",
   "execution_count": null,
   "id": "1c872062-ab2d-4274-8c36-510112cea17c",
   "metadata": {},
   "outputs": [],
   "source": [
    "df[[\"u\", \"v\"]].plot(alpha=0.5)"
   ]
  }
 ],
 "metadata": {
  "kernelspec": {
   "display_name": "ocf",
   "language": "python",
   "name": "ocf"
  },
  "language_info": {
   "codemirror_mode": {
    "name": "ipython",
    "version": 3
   },
   "file_extension": ".py",
   "mimetype": "text/x-python",
   "name": "python",
   "nbconvert_exporter": "python",
   "pygments_lexer": "ipython3"
  }
 },
 "nbformat": 4,
 "nbformat_minor": 5
}

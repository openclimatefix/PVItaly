{
 "cells": [
  {
   "cell_type": "markdown",
   "id": "0388edd7-3f3c-4d71-9874-1ed17bdb56c7",
   "metadata": {},
   "source": [
    "# Get GFS data from the source\n",
    "- Data dictionary: https://rda.ucar.edu/datasets/ds084.1/#metadata/grib2.html?_do=y\n",
    "- Data access: https://rda.ucar.edu/datasets/ds084.1/#!access\n",
    "- https://github.com/ecmwf/cfgrib/issues/138\n",
    "- https://github.com/ecmwf/cfgrib/issues/75"
   ]
  },
  {
   "cell_type": "markdown",
   "id": "100c3113-4311-4761-ba85-8cd1b1534dd1",
   "metadata": {},
   "source": [
    "## Imports"
   ]
  },
  {
   "cell_type": "code",
   "execution_count": null,
   "id": "5f1b86ec-7153-4e33-b31c-f1266d67158b",
   "metadata": {},
   "outputs": [],
   "source": [
    "%load_ext autoreload\n",
    "%autoreload 2"
   ]
  },
  {
   "cell_type": "code",
   "execution_count": null,
   "id": "19e3fad5-c056-47f2-b229-efb6e5047064",
   "metadata": {},
   "outputs": [],
   "source": [
    "from datetime import datetime, timedelta\n",
    "from pathlib import Path\n",
    "from typing import Iterable\n",
    "\n",
    "import xarray as xr\n",
    "import zarr"
   ]
  },
  {
   "cell_type": "code",
   "execution_count": null,
   "id": "ce4d09ef-8589-43e7-a96d-917e1c4898a3",
   "metadata": {},
   "outputs": [],
   "source": [
    "path = Path(\"../data/\")\n",
    "for file in sorted(path.glob(\"*.grib2\")):\n",
    "    if file.stem.split(\"f00\")[-1] != \"0\":\n",
    "        print(file)\n",
    "        break"
   ]
  },
  {
   "cell_type": "markdown",
   "id": "9cb231f0-8c08-45e8-934c-9f25fa605bd4",
   "metadata": {},
   "source": [
    "## Load into xarray"
   ]
  },
  {
   "cell_type": "code",
   "execution_count": null,
   "id": "38475436-db17-4626-acef-9f9e4e7d3d97",
   "metadata": {},
   "outputs": [],
   "source": [
    "ds_t = xr.open_dataset(\n",
    "    file,\n",
    "    engine=\"cfgrib\",\n",
    "    backend_kwargs={\n",
    "        \"filter_by_keys\": {\n",
    "            \"cfVarName\": \"t\",\n",
    "            \"typeOfLevel\": \"surface\",\n",
    "            \"stepType\": \"instant\",\n",
    "        }\n",
    "    },\n",
    ")\n",
    "ds_t = ds_t.t"
   ]
  },
  {
   "cell_type": "code",
   "execution_count": null,
   "id": "85208416-6709-47a7-b6bb-7e6f5e43857e",
   "metadata": {},
   "outputs": [],
   "source": [
    "ds_dp = xr.open_dataset(\n",
    "    file,\n",
    "    engine=\"cfgrib\",\n",
    "    backend_kwargs={\"filter_by_keys\": {\"typeOfLevel\": \"surface\", \"stepType\": \"avg\"}},\n",
    ")\n",
    "da_d = ds_dp.dlwrf\n",
    "da_p = ds_dp.prate"
   ]
  },
  {
   "cell_type": "code",
   "execution_count": null,
   "id": "91549398-1ff1-49d7-83bf-42e374df3992",
   "metadata": {},
   "outputs": [],
   "source": [
    "ds_v = xr.open_dataset(\n",
    "    file,\n",
    "    engine=\"cfgrib\",\n",
    "    backend_kwargs={\n",
    "        \"filter_by_keys\": {\"cfVarName\": \"v\", \"typeOfLevel\": \"isobaricInhPa\"},\n",
    "        \"indexpath\": \"\",\n",
    "    },\n",
    ")\n",
    "da_v = ds_v.isel(isobaricInhPa=0).v"
   ]
  },
  {
   "cell_type": "code",
   "execution_count": null,
   "id": "c9556bd6-391d-4de8-bfbc-95f280d2ed2d",
   "metadata": {},
   "outputs": [],
   "source": [
    "ds_u = xr.open_dataset(\n",
    "    file,\n",
    "    engine=\"cfgrib\",\n",
    "    backend_kwargs={\n",
    "        \"filter_by_keys\": {\"cfVarName\": \"u\", \"typeOfLevel\": \"isobaricInhPa\"},\n",
    "        \"indexpath\": \"\",\n",
    "    },\n",
    ")\n",
    "ds_u = ds_u.isel(isobaricInhPa=0).u"
   ]
  },
  {
   "cell_type": "code",
   "execution_count": null,
   "id": "7aa62b73-2a1d-4d32-a7f4-7e1f7896a3dd",
   "metadata": {},
   "outputs": [],
   "source": [
    "ds_merged = xr.merge([ds_t, ds_u, ds_v, ds_d, ds_p])"
   ]
  },
  {
   "cell_type": "code",
   "execution_count": null,
   "id": "9996df4c-4d30-497b-b3ea-4a9987df107c",
   "metadata": {},
   "outputs": [],
   "source": [
    "ds_merged.to_zarr(f\"../zarrs/{file.stem}\")"
   ]
  }
 ],
 "metadata": {
  "kernelspec": {
   "display_name": "Python 3 (ipykernel)",
   "language": "python",
   "name": "python3"
  },
  "language_info": {
   "codemirror_mode": {
    "name": "ipython",
    "version": 3
   },
   "file_extension": ".py",
   "mimetype": "text/x-python",
   "name": "python",
   "nbconvert_exporter": "python",
   "pygments_lexer": "ipython3"
  }
 },
 "nbformat": 4,
 "nbformat_minor": 5
}
